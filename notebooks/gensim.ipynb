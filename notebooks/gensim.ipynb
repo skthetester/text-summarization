{
 "cells": [
  {
   "cell_type": "code",
   "execution_count": null,
   "metadata": {},
   "outputs": [],
   "source": [
    "from gensim.summarization.summarizer import summarize\n",
    "from gensim.summarization import keywords\n",
    "import en_core_web_sm\n",
    "\n",
    "# read file\n",
    "content = open('../data/note.txt', 'r')\n",
    "nlp = en_core_web_sm.load()\n",
    "doc = nlp(content)\n",
    "\n",
    "# summarize based on percentage\n",
    "summ_per = summarize(content, ratio = \"\")\n",
    "print(\"Percent summary\")\n",
    "print(summ_per)\n",
    "\n",
    "# summarize based on word count\n",
    "summ_words = summarize(content, word_count = \"\")\n",
    "print(\"Word count summary\")\n",
    "print(summ_words)"
   ]
  }
 ],
 "metadata": {
  "kernelspec": {
   "display_name": "Python 3",
   "language": "python",
   "name": "python3"
  },
  "language_info": {
   "codemirror_mode": {
    "name": "ipython",
    "version": 3
   },
   "file_extension": ".py",
   "mimetype": "text/x-python",
   "name": "python",
   "nbconvert_exporter": "python",
   "pygments_lexer": "ipython3",
   "version": "3.11.5"
  },
  "orig_nbformat": 4
 },
 "nbformat": 4,
 "nbformat_minor": 2
}
